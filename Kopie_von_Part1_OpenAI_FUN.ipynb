{
  "nbformat": 4,
  "nbformat_minor": 0,
  "metadata": {
    "anaconda-cloud": {},
    "kernelspec": {
      "display_name": "Python 3.7 (tensorflow)",
      "language": "python",
      "name": "tensorflow"
    },
    "language_info": {
      "codemirror_mode": {
        "name": "ipython",
        "version": 3
      },
      "file_extension": ".py",
      "mimetype": "text/x-python",
      "name": "python",
      "nbconvert_exporter": "python",
      "pygments_lexer": "ipython3",
      "version": "3.7.7"
    },
    "colab": {
      "name": "Kopie von Part1_OpenAI_FUN.ipynb",
      "provenance": [],
      "include_colab_link": true
    }
  },
  "cells": [
    {
      "cell_type": "markdown",
      "metadata": {
        "id": "view-in-github",
        "colab_type": "text"
      },
      "source": [
        "<a href=\"https://colab.research.google.com/github/boernd/rl-workshop/blob/main/Kopie_von_Part1_OpenAI_FUN.ipynb\" target=\"_parent\"><img src=\"https://colab.research.google.com/assets/colab-badge.svg\" alt=\"Open In Colab\"/></a>"
      ]
    },
    {
      "cell_type": "markdown",
      "metadata": {
        "id": "N58_HAIBIeX6"
      },
      "source": [
        "<a href=\"https://colab.research.google.com/github/jeffheaton/t81_558_deep_learning/blob/master/t81_558_class_12_01_ai_gym.ipynb\" target=\"_parent\"><img src=\"https://colab.research.google.com/assets/colab-badge.svg\" alt=\"Open In Colab\"/></a>"
      ]
    },
    {
      "cell_type": "markdown",
      "metadata": {
        "id": "UImTzmGTIeX9"
      },
      "source": [
        "# Introduction to the OpenAI Gym\n",
        "\n",
        "[OpenAI Gym](https://gym.openai.com/) aims to provide an easy-to-setup general-intelligence benchmark with a wide variety of different environments. The goal is to standardize how environments are defined in AI research publications so that published research becomes more easily reproducible. The project claims to provide the user with a simple interface. As of June 2017, developers can only use Gym with Python. \n",
        "\n",
        "OpenAI gym is pip-installed onto your local machine.  There are a few significant limitations to be aware of:\n",
        "\n",
        "* OpenAI Gym Atari only **directly** supports Linux and Macintosh\n",
        "* OpenAI Gym Atari can be used with Windows; however, it requires a particular [installation procedure](https://towardsdatascience.com/how-to-install-openai-gym-in-a-windows-environment-338969e24d30)\n",
        "* OpenAI Gym can not directly render animated games in Google CoLab.\n",
        "\n",
        "Because OpenAI Gym requires a graphics display, the only way to display Gym in Google CoLab is an embedded video.  The presentation of OpenAI Gym game animations in Google CoLab is discussed later in this module.\n",
        "\n",
        "### OpenAI Gym Leaderboard\n",
        "\n",
        "The OpenAI Gym does have a leaderboard, similar to Kaggle; however, the OpenAI Gym's leaderboard is much more informal compared to Kaggle.  The user's local machine performs all scoring.  As a result, the OpenAI gym's leaderboard is strictly an \"honor's system.\"  The leaderboard is maintained the following GitHub repository:\n",
        "\n",
        "* [OpenAI Gym Leaderboard](https://github.com/openai/gym/wiki/Leaderboard)\n",
        "\n",
        "If you submit a score, you are required to provide a writeup with sufficient instructions to reproduce your result. A video of your results is suggested, but not required.\n",
        "\n",
        "### Looking at Gym Environments\n",
        "\n",
        "The centerpiece of Gym is the environment, which defines the \"game\" in which your reinforcement algorithm will compete.  An environment does not need to be a game; however, it describes the following game-like features:\n",
        "* **action space**: What actions can we take on the environment, at each step/episode, to alter the environment.\n",
        "* **observation space**: What is the current state of the portion of the environment that we can observe. Usually, we can see the entire environment.\n",
        "\n",
        "Before we begin to look at Gym, it is essential to understand some of the terminology used by this library.\n",
        "\n",
        "* **Agent** - The machine learning program or model that controls the actions.\n",
        "Step - One round of issuing actions that affect the observation space.\n",
        "* **Episode** - A collection of steps that terminates when the agent fails to meet the environment's objective, or the episode reaches the maximum number of allowed steps.\n",
        "* **Render** - Gym can render one frame for display after each episode.\n",
        "* **Reward** - A positive reinforcement that can occur at the end of each episode, after the agent acts.\n",
        "* **Nondeterministic** - For some environments, randomness is a factor in deciding what effects actions have on reward and changes to the observation space.\n",
        "\n",
        "It is important to note that many of the gym environments specify that they are not nondeterministic even though they make use of random numbers to process actions. It is generally agreed upon (based on the gym GitHub issue tracker) that nondeterministic property means that a deterministic environment will still behave randomly even when given consistent seed value. The seed method of an environment can be used by the program to seed the random number generator for the environment.\n",
        "\n",
        "The Gym library allows us to query some of these attributes from environments.  I created the following function to query gym environments.\n"
      ]
    },
    {
      "cell_type": "code",
      "metadata": {
        "id": "cciTuR2MIeX-"
      },
      "source": [
        "import gym\n",
        "\n",
        "def query_environment(name):\n",
        "  env = gym.make(name)\n",
        "  spec = gym.spec(name)\n",
        "  print(f\"Action Space: {env.action_space}\")\n",
        "  print(f\"Observation Space: {env.observation_space}\")\n",
        "  print(f\"Max Episode Steps: {spec.max_episode_steps}\")\n",
        "  print(f\"Nondeterministic: {spec.nondeterministic}\")\n",
        "  print(f\"Reward Range: {env.reward_range}\")\n",
        "  print(f\"Reward Threshold: {spec.reward_threshold}\")"
      ],
      "execution_count": 1,
      "outputs": []
    },
    {
      "cell_type": "markdown",
      "metadata": {
        "id": "kRXfAdwFDwUm"
      },
      "source": [
        "We will begin by looking at the MountainCar-v0 environment, which challenges an underpowered car to escape the valley between two mountains.  The following code describes the Mountian Car environment."
      ]
    },
    {
      "cell_type": "code",
      "metadata": {
        "id": "XYwy9cjlJjEH",
        "outputId": "ca8a951c-2ab7-4fa8-8cfe-936b9a375485",
        "colab": {
          "base_uri": "https://localhost:8080/"
        }
      },
      "source": [
        "#Change the game!\n",
        "query_environment(\"Pendulum-v0\")"
      ],
      "execution_count": 4,
      "outputs": [
        {
          "output_type": "stream",
          "text": [
            "Action Space: Box(-2.0, 2.0, (1,), float32)\n",
            "Observation Space: Box(-8.0, 8.0, (3,), float32)\n",
            "Max Episode Steps: 200\n",
            "Nondeterministic: False\n",
            "Reward Range: (-inf, inf)\n",
            "Reward Threshold: None\n"
          ],
          "name": "stdout"
        }
      ]
    },
    {
      "cell_type": "markdown",
      "metadata": {
        "id": "1TsQiaGJE3UA"
      },
      "source": [
        "There are three distinct actions that can be taken: accelrate forward, decelerate, or accelerate backwards.  The observation space contains two continuous (floating point) values, as evident by the box object. The observation space is simply the position and velocity of the car.  The car has 200 steps to escape for each epasode.  You would have to look at the code to know, but the mountian car recieves no incramental reward.  The only reward for the car is given when it escapes the valley.  "
      ]
    },
    {
      "cell_type": "code",
      "metadata": {
        "id": "RF4n5cYEMyru",
        "outputId": "e14d3f22-8a09-4d3f-bcdc-fe874acff485",
        "colab": {
          "base_uri": "https://localhost:8080/"
        }
      },
      "source": [
        "query_environment(\"CartPole-v1\")"
      ],
      "execution_count": null,
      "outputs": [
        {
          "output_type": "stream",
          "text": [
            "Action Space: Discrete(2)\n",
            "Observation Space: Box(-3.4028234663852886e+38, 3.4028234663852886e+38, (4,), float32)\n",
            "Max Episode Steps: 500\n",
            "Nondeterministic: False\n",
            "Reward Range: (-inf, inf)\n",
            "Reward Threshold: 475.0\n"
          ],
          "name": "stdout"
        }
      ]
    },
    {
      "cell_type": "markdown",
      "metadata": {
        "id": "QwvVKrNebUHJ"
      },
      "source": [
        "The CartPole-v1 environment challenges the agent to move a cart while keeping a pole balanced. The environment has an observation space of 4 continuous numbers:\n",
        "\n",
        "* Cart Position\n",
        "* Cart Velocity\n",
        "* Pole Angle\n",
        "* Pole Velocity At Tip\n",
        "\n",
        "To achieve this goal, the agent can take the following actions:\n",
        "\n",
        "* Push cart to the left\n",
        "* Push cart to the right\n",
        "\n",
        "There is also a continuous variant of the mountain car.  This version does not simply have the motor on or off.  For the continuous car the action space is a single floating point number that specifies how much forward or backward force is being applied."
      ]
    },
    {
      "cell_type": "code",
      "metadata": {
        "id": "UAlaMcJmNSY0",
        "outputId": "14bab6ac-b7ad-4225-a4d3-d2f4a1de4ed4",
        "colab": {
          "base_uri": "https://localhost:8080/"
        }
      },
      "source": [
        "query_environment(\"MontezumaRevenge-ram-v0\")"
      ],
      "execution_count": 6,
      "outputs": [
        {
          "output_type": "stream",
          "text": [
            "Action Space: Discrete(18)\n",
            "Observation Space: Box(0, 255, (128,), uint8)\n",
            "Max Episode Steps: 10000\n",
            "Nondeterministic: False\n",
            "Reward Range: (-inf, inf)\n",
            "Reward Threshold: None\n"
          ],
          "name": "stdout"
        }
      ]
    },
    {
      "cell_type": "markdown",
      "metadata": {
        "id": "JBrlG1t6ceIa"
      },
      "source": [
        "Note: ignore the warning above, it is a relativly inconsequential bug in OpenAI Gym.\n",
        "\n",
        "Atari games, like breakout can use an observation space that is either equal to the size of the Atari screen (210x160) or even use the RAM memory of the Atari (128 bytes) to determine the state of the game.  Yes thats bytes, not kilobytes!"
      ]
    },
    {
      "cell_type": "code",
      "metadata": {
        "id": "ndTb-9pgJizW",
        "outputId": "8a5db759-84d4-4247-ab48-ec10d3f7e8b5",
        "colab": {
          "base_uri": "https://localhost:8080/"
        }
      },
      "source": [
        "query_environment(\"Breakout-v0\")"
      ],
      "execution_count": null,
      "outputs": [
        {
          "output_type": "stream",
          "text": [
            "Action Space: Discrete(4)\n",
            "Observation Space: Box(0, 255, (210, 160, 3), uint8)\n",
            "Max Episode Steps: 10000\n",
            "Nondeterministic: False\n",
            "Reward Range: (-inf, inf)\n",
            "Reward Threshold: None\n"
          ],
          "name": "stdout"
        }
      ]
    },
    {
      "cell_type": "code",
      "metadata": {
        "id": "Ni1rxzmLKAdH",
        "outputId": "9b5165f8-ecd0-432a-8d8d-82f99b7d0235",
        "colab": {
          "base_uri": "https://localhost:8080/"
        }
      },
      "source": [
        "query_environment(\"Breakout-ram-v0\")"
      ],
      "execution_count": null,
      "outputs": [
        {
          "output_type": "stream",
          "text": [
            "Action Space: Discrete(4)\n",
            "Observation Space: Box(0, 255, (128,), uint8)\n",
            "Max Episode Steps: 10000\n",
            "Nondeterministic: False\n",
            "Reward Range: (-inf, inf)\n",
            "Reward Threshold: None\n"
          ],
          "name": "stdout"
        }
      ]
    },
    {
      "cell_type": "markdown",
      "metadata": {
        "id": "3E253PBGPRuw"
      },
      "source": [
        "### Render OpenAI Gym Environments from CoLab\n",
        "\n",
        "It is possible to visualize the game your agent is playing, even on CoLab.  This section provides information on how to generate a video in CoLab that shows you an episode of the game your agent is playing. This video process is based on suggestions found [here](https://colab.research.google.com/drive/1flu31ulJlgiRL1dnN2ir8wGh9p7Zij2t).\n",
        "\n",
        "Begin by installing **pyvirtualdisplay** and **python-opengl**."
      ]
    },
    {
      "cell_type": "code",
      "metadata": {
        "id": "uF92FCzZMWPn"
      },
      "source": [
        "!pip install gym pyvirtualdisplay > /dev/null 2>&1\n",
        "!apt-get install -y xvfb python-opengl ffmpeg > /dev/null 2>&1"
      ],
      "execution_count": 7,
      "outputs": []
    },
    {
      "cell_type": "markdown",
      "metadata": {
        "id": "hS7L8kFMLkjN"
      },
      "source": [
        "Next, we install needed requirements to display an Atari game."
      ]
    },
    {
      "cell_type": "code",
      "metadata": {
        "id": "78BfQoQKOq7z",
        "outputId": "f008631a-7363-46dc-e1ef-037a2e5ddc15",
        "colab": {
          "base_uri": "https://localhost:8080/"
        }
      },
      "source": [
        "!apt-get update > /dev/null 2>&1\n",
        "!apt-get install cmake > /dev/null 2>&1\n",
        "!pip install --upgrade setuptools 2>&1\n",
        "!pip install ez_setup > /dev/null 2>&1\n",
        "!pip install gym[atari] > /dev/null 2>&1"
      ],
      "execution_count": 8,
      "outputs": [
        {
          "output_type": "stream",
          "text": [
            "Requirement already up-to-date: setuptools in /usr/local/lib/python3.6/dist-packages (50.3.2)\n"
          ],
          "name": "stdout"
        }
      ]
    },
    {
      "cell_type": "markdown",
      "metadata": {
        "id": "NjTHm2SpLz10"
      },
      "source": [
        "Next we define functions used to show the video by adding it to the CoLab notebook."
      ]
    },
    {
      "cell_type": "code",
      "metadata": {
        "id": "T9RpF49oOsZj"
      },
      "source": [
        "import gym\n",
        "from gym.wrappers import Monitor\n",
        "import glob\n",
        "import io\n",
        "import base64\n",
        "from IPython.display import HTML\n",
        "from pyvirtualdisplay import Display\n",
        "from IPython import display as ipythondisplay\n",
        "\n",
        "display = Display(visible=0, size=(1400, 900))\n",
        "display.start()\n",
        "\n",
        "\"\"\"\n",
        "Utility functions to enable video recording of gym environment \n",
        "and displaying it.\n",
        "To enable video, just do \"env = wrap_env(env)\"\"\n",
        "\"\"\"\n",
        "\n",
        "def show_video():\n",
        "  mp4list = glob.glob('video/*.mp4')\n",
        "  if len(mp4list) > 0:\n",
        "    mp4 = mp4list[0]\n",
        "    video = io.open(mp4, 'r+b').read()\n",
        "    encoded = base64.b64encode(video)\n",
        "    ipythondisplay.display(HTML(data='''<video alt=\"test\" autoplay \n",
        "                loop controls style=\"height: 400px;\">\n",
        "                <source src=\"data:video/mp4;base64,{0}\" type=\"video/mp4\" />\n",
        "             </video>'''.format(encoded.decode('ascii'))))\n",
        "  else: \n",
        "    print(\"Could not find video\")\n",
        "    \n",
        "\n",
        "def wrap_env(env):\n",
        "  env = Monitor(env, './video', force=True)\n",
        "  return env"
      ],
      "execution_count": 9,
      "outputs": []
    },
    {
      "cell_type": "markdown",
      "metadata": {
        "id": "K6NATj-kNADT"
      },
      "source": [
        "Now we are ready to play the game.  We use a simple random agent."
      ]
    },
    {
      "cell_type": "code",
      "metadata": {
        "id": "XDKGJ9A3O8fT",
        "outputId": "25455d17-b730-40b5-8898-0902a0bdcac5",
        "colab": {
          "base_uri": "https://localhost:8080/",
          "height": 421
        }
      },
      "source": [
        "env = wrap_env(gym.make(\"MountainCar-v0\"))\n",
        "# env = wrap_env(gym.make(\"Assault-ram-v0\"))\n",
        "\n",
        "observation = env.reset()\n",
        "\n",
        "while True:\n",
        "  \n",
        "    env.render()\n",
        "    \n",
        "    #your agent goes here\n",
        "    action = env.action_space.sample() \n",
        "         \n",
        "    observation, reward, done, info = env.step(action) \n",
        "   \n",
        "        \n",
        "    if done: \n",
        "      break;\n",
        "            \n",
        "env.close()\n",
        "show_video()"
      ],
      "execution_count": 10,
      "outputs": [
        {
          "output_type": "display_data",
          "data": {
            "text/html": [
              "<video alt=\"test\" autoplay \n",
              "                loop controls style=\"height: 400px;\">\n",
              "                <source src=\"data:video/mp4;base64,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\" type=\"video/mp4\" />\n",
              "             </video>"
            ],
            "text/plain": [
              "<IPython.core.display.HTML object>"
            ]
          },
          "metadata": {
            "tags": []
          }
        }
      ]
    }
  ]
}