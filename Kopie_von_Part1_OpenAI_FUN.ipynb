{
  "nbformat": 4,
  "nbformat_minor": 0,
  "metadata": {
    "anaconda-cloud": {},
    "kernelspec": {
      "display_name": "Python 3.7 (tensorflow)",
      "language": "python",
      "name": "tensorflow"
    },
    "language_info": {
      "codemirror_mode": {
        "name": "ipython",
        "version": 3
      },
      "file_extension": ".py",
      "mimetype": "text/x-python",
      "name": "python",
      "nbconvert_exporter": "python",
      "pygments_lexer": "ipython3",
      "version": "3.7.7"
    },
    "colab": {
      "name": "Kopie von Part1_OpenAI_FUN.ipynb",
      "provenance": [],
      "include_colab_link": true
    }
  },
  "cells": [
    {
      "cell_type": "markdown",
      "metadata": {
        "id": "view-in-github",
        "colab_type": "text"
      },
      "source": [
        "<a href=\"https://colab.research.google.com/github/boernd/rl-workshop/blob/main/Kopie_von_Part1_OpenAI_FUN.ipynb\" target=\"_parent\"><img src=\"https://colab.research.google.com/assets/colab-badge.svg\" alt=\"Open In Colab\"/></a>"
      ]
    },
    {
      "cell_type": "markdown",
      "metadata": {
        "id": "N58_HAIBIeX6"
      },
      "source": [
        "<a href=\"https://colab.research.google.com/github/jeffheaton/t81_558_deep_learning/blob/master/t81_558_class_12_01_ai_gym.ipynb\" target=\"_parent\"><img src=\"https://colab.research.google.com/assets/colab-badge.svg\" alt=\"Open In Colab\"/></a>"
      ]
    },
    {
      "cell_type": "markdown",
      "metadata": {
        "id": "UImTzmGTIeX9"
      },
      "source": [
        "# Introduction to the OpenAI Gym\n",
        "\n",
        "[OpenAI Gym](https://gym.openai.com/) aims to provide an easy-to-setup general-intelligence benchmark with a wide variety of different environments. The goal is to standardize how environments are defined in AI research publications so that published research becomes more easily reproducible. The project claims to provide the user with a simple interface. As of June 2017, developers can only use Gym with Python. \n",
        "\n",
        "OpenAI gym is pip-installed onto your local machine.  There are a few significant limitations to be aware of:\n",
        "\n",
        "* OpenAI Gym Atari only **directly** supports Linux and Macintosh\n",
        "* OpenAI Gym Atari can be used with Windows; however, it requires a particular [installation procedure](https://towardsdatascience.com/how-to-install-openai-gym-in-a-windows-environment-338969e24d30)\n",
        "* OpenAI Gym can not directly render animated games in Google CoLab.\n",
        "\n",
        "Because OpenAI Gym requires a graphics display, the only way to display Gym in Google CoLab is an embedded video.  The presentation of OpenAI Gym game animations in Google CoLab is discussed later in this module.\n",
        "\n",
        "### OpenAI Gym Leaderboard\n",
        "\n",
        "The OpenAI Gym does have a leaderboard, similar to Kaggle; however, the OpenAI Gym's leaderboard is much more informal compared to Kaggle.  The user's local machine performs all scoring.  As a result, the OpenAI gym's leaderboard is strictly an \"honor's system.\"  The leaderboard is maintained the following GitHub repository:\n",
        "\n",
        "* [OpenAI Gym Leaderboard](https://github.com/openai/gym/wiki/Leaderboard)\n",
        "\n",
        "If you submit a score, you are required to provide a writeup with sufficient instructions to reproduce your result. A video of your results is suggested, but not required.\n",
        "\n",
        "### Looking at Gym Environments\n",
        "\n",
        "The centerpiece of Gym is the environment, which defines the \"game\" in which your reinforcement algorithm will compete.  An environment does not need to be a game; however, it describes the following game-like features:\n",
        "* **action space**: What actions can we take on the environment, at each step/episode, to alter the environment.\n",
        "* **observation space**: What is the current state of the portion of the environment that we can observe. Usually, we can see the entire environment.\n",
        "\n",
        "Before we begin to look at Gym, it is essential to understand some of the terminology used by this library.\n",
        "\n",
        "* **Agent** - The machine learning program or model that controls the actions.\n",
        "Step - One round of issuing actions that affect the observation space.\n",
        "* **Episode** - A collection of steps that terminates when the agent fails to meet the environment's objective, or the episode reaches the maximum number of allowed steps.\n",
        "* **Render** - Gym can render one frame for display after each episode.\n",
        "* **Reward** - A positive reinforcement that can occur at the end of each episode, after the agent acts.\n",
        "* **Nondeterministic** - For some environments, randomness is a factor in deciding what effects actions have on reward and changes to the observation space.\n",
        "\n",
        "It is important to note that many of the gym environments specify that they are not nondeterministic even though they make use of random numbers to process actions. It is generally agreed upon (based on the gym GitHub issue tracker) that nondeterministic property means that a deterministic environment will still behave randomly even when given consistent seed value. The seed method of an environment can be used by the program to seed the random number generator for the environment.\n",
        "\n",
        "The Gym library allows us to query some of these attributes from environments.  I created the following function to query gym environments.\n"
      ]
    },
    {
      "cell_type": "code",
      "metadata": {
        "id": "cciTuR2MIeX-"
      },
      "source": [
        "import gym\n",
        "\n",
        "def query_environment(name):\n",
        "  env = gym.make(name)\n",
        "  spec = gym.spec(name)\n",
        "  print(f\"Action Space: {env.action_space}\")\n",
        "  print(f\"Observation Space: {env.observation_space}\")\n",
        "  print(f\"Max Episode Steps: {spec.max_episode_steps}\")\n",
        "  print(f\"Nondeterministic: {spec.nondeterministic}\")\n",
        "  print(f\"Reward Range: {env.reward_range}\")\n",
        "  print(f\"Reward Threshold: {spec.reward_threshold}\")"
      ],
      "execution_count": null,
      "outputs": []
    },
    {
      "cell_type": "markdown",
      "metadata": {
        "id": "kRXfAdwFDwUm"
      },
      "source": [
        "We will begin by looking at the MountainCar-v0 environment, which challenges an underpowered car to escape the valley between two mountains.  The following code describes the Mountian Car environment."
      ]
    },
    {
      "cell_type": "code",
      "metadata": {
        "id": "XYwy9cjlJjEH",
        "outputId": "f7064ba8-7477-4feb-d066-3b74d907ed06",
        "colab": {
          "base_uri": "https://localhost:8080/"
        }
      },
      "source": [
        "#Change the game!\n",
        "query_environment(\"MountainCar-v0\")"
      ],
      "execution_count": null,
      "outputs": [
        {
          "output_type": "stream",
          "text": [
            "Action Space: Discrete(3)\n",
            "Observation Space: Box(-1.2000000476837158, 0.6000000238418579, (2,), float32)\n",
            "Max Episode Steps: 200\n",
            "Nondeterministic: False\n",
            "Reward Range: (-inf, inf)\n",
            "Reward Threshold: -110.0\n"
          ],
          "name": "stdout"
        }
      ]
    },
    {
      "cell_type": "markdown",
      "metadata": {
        "id": "1TsQiaGJE3UA"
      },
      "source": [
        "There are three distinct actions that can be taken: accelrate forward, decelerate, or accelerate backwards.  The observation space contains two continuous (floating point) values, as evident by the box object. The observation space is simply the position and velocity of the car.  The car has 200 steps to escape for each epasode.  You would have to look at the code to know, but the mountian car recieves no incramental reward.  The only reward for the car is given when it escapes the valley.  "
      ]
    },
    {
      "cell_type": "code",
      "metadata": {
        "id": "RF4n5cYEMyru",
        "outputId": "e14d3f22-8a09-4d3f-bcdc-fe874acff485",
        "colab": {
          "base_uri": "https://localhost:8080/"
        }
      },
      "source": [
        "query_environment(\"CartPole-v1\")"
      ],
      "execution_count": null,
      "outputs": [
        {
          "output_type": "stream",
          "text": [
            "Action Space: Discrete(2)\n",
            "Observation Space: Box(-3.4028234663852886e+38, 3.4028234663852886e+38, (4,), float32)\n",
            "Max Episode Steps: 500\n",
            "Nondeterministic: False\n",
            "Reward Range: (-inf, inf)\n",
            "Reward Threshold: 475.0\n"
          ],
          "name": "stdout"
        }
      ]
    },
    {
      "cell_type": "markdown",
      "metadata": {
        "id": "QwvVKrNebUHJ"
      },
      "source": [
        "The CartPole-v1 environment challenges the agent to move a cart while keeping a pole balanced. The environment has an observation space of 4 continuous numbers:\n",
        "\n",
        "* Cart Position\n",
        "* Cart Velocity\n",
        "* Pole Angle\n",
        "* Pole Velocity At Tip\n",
        "\n",
        "To achieve this goal, the agent can take the following actions:\n",
        "\n",
        "* Push cart to the left\n",
        "* Push cart to the right\n",
        "\n",
        "There is also a continuous variant of the mountain car.  This version does not simply have the motor on or off.  For the continuous car the action space is a single floating point number that specifies how much forward or backward force is being applied."
      ]
    },
    {
      "cell_type": "code",
      "metadata": {
        "id": "UAlaMcJmNSY0",
        "outputId": "6b1d7239-af4a-4ebf-a248-b34a927547d6",
        "colab": {
          "base_uri": "https://localhost:8080/"
        }
      },
      "source": [
        "query_environment(\"MountainCarContinuous-v0\")"
      ],
      "execution_count": null,
      "outputs": [
        {
          "output_type": "stream",
          "text": [
            "Action Space: Box(-1.0, 1.0, (1,), float32)\n",
            "Observation Space: Box(-1.2000000476837158, 0.6000000238418579, (2,), float32)\n",
            "Max Episode Steps: 999\n",
            "Nondeterministic: False\n",
            "Reward Range: (-inf, inf)\n",
            "Reward Threshold: 90.0\n"
          ],
          "name": "stdout"
        }
      ]
    },
    {
      "cell_type": "markdown",
      "metadata": {
        "id": "JBrlG1t6ceIa"
      },
      "source": [
        "Note: ignore the warning above, it is a relativly inconsequential bug in OpenAI Gym.\n",
        "\n",
        "Atari games, like breakout can use an observation space that is either equal to the size of the Atari screen (210x160) or even use the RAM memory of the Atari (128 bytes) to determine the state of the game.  Yes thats bytes, not kilobytes!"
      ]
    },
    {
      "cell_type": "code",
      "metadata": {
        "id": "ndTb-9pgJizW",
        "outputId": "8a5db759-84d4-4247-ab48-ec10d3f7e8b5",
        "colab": {
          "base_uri": "https://localhost:8080/"
        }
      },
      "source": [
        "query_environment(\"Breakout-v0\")"
      ],
      "execution_count": null,
      "outputs": [
        {
          "output_type": "stream",
          "text": [
            "Action Space: Discrete(4)\n",
            "Observation Space: Box(0, 255, (210, 160, 3), uint8)\n",
            "Max Episode Steps: 10000\n",
            "Nondeterministic: False\n",
            "Reward Range: (-inf, inf)\n",
            "Reward Threshold: None\n"
          ],
          "name": "stdout"
        }
      ]
    },
    {
      "cell_type": "code",
      "metadata": {
        "id": "Ni1rxzmLKAdH",
        "outputId": "9b5165f8-ecd0-432a-8d8d-82f99b7d0235",
        "colab": {
          "base_uri": "https://localhost:8080/"
        }
      },
      "source": [
        "query_environment(\"Breakout-ram-v0\")"
      ],
      "execution_count": null,
      "outputs": [
        {
          "output_type": "stream",
          "text": [
            "Action Space: Discrete(4)\n",
            "Observation Space: Box(0, 255, (128,), uint8)\n",
            "Max Episode Steps: 10000\n",
            "Nondeterministic: False\n",
            "Reward Range: (-inf, inf)\n",
            "Reward Threshold: None\n"
          ],
          "name": "stdout"
        }
      ]
    },
    {
      "cell_type": "markdown",
      "metadata": {
        "id": "3E253PBGPRuw"
      },
      "source": [
        "### Render OpenAI Gym Environments from CoLab\n",
        "\n",
        "It is possible to visualize the game your agent is playing, even on CoLab.  This section provides information on how to generate a video in CoLab that shows you an episode of the game your agent is playing. This video process is based on suggestions found [here](https://colab.research.google.com/drive/1flu31ulJlgiRL1dnN2ir8wGh9p7Zij2t).\n",
        "\n",
        "Begin by installing **pyvirtualdisplay** and **python-opengl**."
      ]
    },
    {
      "cell_type": "code",
      "metadata": {
        "id": "uF92FCzZMWPn"
      },
      "source": [
        "!pip install gym pyvirtualdisplay > /dev/null 2>&1\n",
        "!apt-get install -y xvfb python-opengl ffmpeg > /dev/null 2>&1"
      ],
      "execution_count": null,
      "outputs": []
    },
    {
      "cell_type": "markdown",
      "metadata": {
        "id": "hS7L8kFMLkjN"
      },
      "source": [
        "Next, we install needed requirements to display an Atari game."
      ]
    },
    {
      "cell_type": "code",
      "metadata": {
        "id": "78BfQoQKOq7z",
        "outputId": "aa04cd20-0c68-43f6-f97a-c41167ea10af",
        "colab": {
          "base_uri": "https://localhost:8080/"
        }
      },
      "source": [
        "!apt-get update > /dev/null 2>&1\n",
        "!apt-get install cmake > /dev/null 2>&1\n",
        "!pip install --upgrade setuptools 2>&1\n",
        "!pip install ez_setup > /dev/null 2>&1\n",
        "!pip install gym[atari] > /dev/null 2>&1"
      ],
      "execution_count": null,
      "outputs": [
        {
          "output_type": "stream",
          "text": [
            "Requirement already up-to-date: setuptools in /usr/local/lib/python3.6/dist-packages (50.3.2)\n"
          ],
          "name": "stdout"
        }
      ]
    },
    {
      "cell_type": "markdown",
      "metadata": {
        "id": "NjTHm2SpLz10"
      },
      "source": [
        "Next we define functions used to show the video by adding it to the CoLab notebook."
      ]
    },
    {
      "cell_type": "code",
      "metadata": {
        "id": "T9RpF49oOsZj"
      },
      "source": [
        "import gym\n",
        "from gym.wrappers import Monitor\n",
        "import glob\n",
        "import io\n",
        "import base64\n",
        "from IPython.display import HTML\n",
        "from pyvirtualdisplay import Display\n",
        "from IPython import display as ipythondisplay\n",
        "\n",
        "display = Display(visible=0, size=(1400, 900))\n",
        "display.start()\n",
        "\n",
        "\"\"\"\n",
        "Utility functions to enable video recording of gym environment \n",
        "and displaying it.\n",
        "To enable video, just do \"env = wrap_env(env)\"\"\n",
        "\"\"\"\n",
        "\n",
        "def show_video():\n",
        "  mp4list = glob.glob('video/*.mp4')\n",
        "  if len(mp4list) > 0:\n",
        "    mp4 = mp4list[0]\n",
        "    video = io.open(mp4, 'r+b').read()\n",
        "    encoded = base64.b64encode(video)\n",
        "    ipythondisplay.display(HTML(data='''<video alt=\"test\" autoplay \n",
        "                loop controls style=\"height: 400px;\">\n",
        "                <source src=\"data:video/mp4;base64,{0}\" type=\"video/mp4\" />\n",
        "             </video>'''.format(encoded.decode('ascii'))))\n",
        "  else: \n",
        "    print(\"Could not find video\")\n",
        "    \n",
        "\n",
        "def wrap_env(env):\n",
        "  env = Monitor(env, './video', force=True)\n",
        "  return env"
      ],
      "execution_count": null,
      "outputs": []
    },
    {
      "cell_type": "markdown",
      "metadata": {
        "id": "K6NATj-kNADT"
      },
      "source": [
        "Now we are ready to play the game.  We use a simple random agent."
      ]
    },
    {
      "cell_type": "code",
      "metadata": {
        "id": "XDKGJ9A3O8fT",
        "outputId": "69af290a-e979-4553-cb5d-72cb8ca4e170",
        "colab": {
          "base_uri": "https://localhost:8080/",
          "height": 421
        }
      },
      "source": [
        "env = wrap_env(gym.make(\"MountainCar-v0\"))\n",
        "# env = wrap_env(gym.make(\"Assault-ram-v0\"))\n",
        "\n",
        "observation = env.reset()\n",
        "\n",
        "while True:\n",
        "  \n",
        "    env.render()\n",
        "    \n",
        "    #your agent goes here\n",
        "    action = env.action_space.sample() \n",
        "         \n",
        "    observation, reward, done, info = env.step(action) \n",
        "   \n",
        "        \n",
        "    if done: \n",
        "      break;\n",
        "            \n",
        "env.close()\n",
        "show_video()"
      ],
      "execution_count": null,
      "outputs": [
        {
          "output_type": "display_data",
          "data": {
            "text/html": [
              "<video alt=\"test\" autoplay \n",
              "                loop controls style=\"height: 400px;\">\n",
              "                <source src=\"data:video/mp4;base64,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\" type=\"video/mp4\" />\n",
              "             </video>"
            ],
            "text/plain": [
              "<IPython.core.display.HTML object>"
            ]
          },
          "metadata": {
            "tags": []
          }
        }
      ]
    }
  ]
}