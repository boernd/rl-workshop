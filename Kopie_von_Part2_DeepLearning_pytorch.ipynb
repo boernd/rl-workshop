{
  "nbformat": 4,
  "nbformat_minor": 0,
  "metadata": {
    "colab": {
      "name": "Kopie von Part2_DeepLearning_pytorch.ipynb",
      "provenance": [],
      "include_colab_link": true
    },
    "kernelspec": {
      "name": "python3",
      "display_name": "Python 3"
    }
  },
  "cells": [
    {
      "cell_type": "markdown",
      "metadata": {
        "id": "view-in-github",
        "colab_type": "text"
      },
      "source": [
        "<a href=\"https://colab.research.google.com/github/boernd/rl-workshop/blob/main/Kopie_von_Part2_DeepLearning_pytorch.ipynb\" target=\"_parent\"><img src=\"https://colab.research.google.com/assets/colab-badge.svg\" alt=\"Open In Colab\"/></a>"
      ]
    },
    {
      "cell_type": "markdown",
      "metadata": {
        "id": "1a-sN0JPQZNU"
      },
      "source": [
        "# Practice 1: Deep learning Module"
      ]
    },
    {
      "cell_type": "code",
      "metadata": {
        "id": "hjrAcTY0Qtp1"
      },
      "source": [
        "import torch\n",
        "import torch.nn as nn"
      ],
      "execution_count": null,
      "outputs": []
    },
    {
      "cell_type": "code",
      "metadata": {
        "id": "L-q8knyXOh24",
        "outputId": "6c8a2f6a-5d31-47cd-cada-cbaa1fbfee87",
        "colab": {
          "base_uri": "https://localhost:8080/"
        }
      },
      "source": [
        "class OurModule(nn.Module):\n",
        "    def __init__(self, num_inputs, num_classes, dropout_prob=0.3):\n",
        "        super(OurModule, self).__init__()\n",
        "        self.pipe = nn.Sequential(\n",
        "            nn.Linear(num_inputs, 5),\n",
        "            nn.ReLU(),\n",
        "            nn.Linear(5, 20),\n",
        "            nn.ReLU(),\n",
        "            nn.Linear(20, num_classes),\n",
        "            nn.Dropout(p=dropout_prob),\n",
        "            nn.Softmax(dim=1)\n",
        "        )\n",
        "\n",
        "    def forward(self, x):\n",
        "        return self.pipe(x)\n",
        "\n",
        "if __name__ == \"__main__\":\n",
        "    net = OurModule(num_inputs=2, num_classes=3)\n",
        "    print(net)\n",
        "    v = torch.FloatTensor([[2, 3]])\n",
        "    out = net(v)\n",
        "    print(out)\n",
        "    print(\"Cuda's availability is %s\" % torch.cuda.is_available())\n",
        "    if torch.cuda.is_available():\n",
        "        print(\"Data from cuda: %s\" % out.to('cuda'))"
      ],
      "execution_count": null,
      "outputs": [
        {
          "output_type": "stream",
          "text": [
            "OurModule(\n",
            "  (pipe): Sequential(\n",
            "    (0): Linear(in_features=2, out_features=5, bias=True)\n",
            "    (1): ReLU()\n",
            "    (2): Linear(in_features=5, out_features=20, bias=True)\n",
            "    (3): ReLU()\n",
            "    (4): Linear(in_features=20, out_features=3, bias=True)\n",
            "    (5): Dropout(p=0.3, inplace=False)\n",
            "    (6): Softmax(dim=1)\n",
            "  )\n",
            ")\n",
            "tensor([[0.4007, 0.2705, 0.3289]], grad_fn=<SoftmaxBackward>)\n",
            "Cuda's availability is False\n"
          ],
          "name": "stdout"
        }
      ]
    },
    {
      "cell_type": "markdown",
      "metadata": {
        "id": "2prbpYjkQxaU"
      },
      "source": [
        "# Practice 2: Tensorboard"
      ]
    },
    {
      "cell_type": "code",
      "metadata": {
        "id": "r62ihYbVRAlc",
        "outputId": "a3ee0a50-d0bf-47de-fc24-8849b7c1f5bf",
        "colab": {
          "base_uri": "https://localhost:8080/"
        }
      },
      "source": [
        "!pip install tensorboardX"
      ],
      "execution_count": null,
      "outputs": [
        {
          "output_type": "stream",
          "text": [
            "Collecting tensorboardX\n",
            "\u001b[?25l  Downloading https://files.pythonhosted.org/packages/af/0c/4f41bcd45db376e6fe5c619c01100e9b7531c55791b7244815bac6eac32c/tensorboardX-2.1-py2.py3-none-any.whl (308kB)\n",
            "\r\u001b[K     |█                               | 10kB 17.8MB/s eta 0:00:01\r\u001b[K     |██▏                             | 20kB 21.6MB/s eta 0:00:01\r\u001b[K     |███▏                            | 30kB 10.5MB/s eta 0:00:01\r\u001b[K     |████▎                           | 40kB 8.0MB/s eta 0:00:01\r\u001b[K     |█████▎                          | 51kB 4.2MB/s eta 0:00:01\r\u001b[K     |██████▍                         | 61kB 4.8MB/s eta 0:00:01\r\u001b[K     |███████▍                        | 71kB 4.9MB/s eta 0:00:01\r\u001b[K     |████████▌                       | 81kB 5.1MB/s eta 0:00:01\r\u001b[K     |█████████▌                      | 92kB 5.4MB/s eta 0:00:01\r\u001b[K     |██████████▋                     | 102kB 5.7MB/s eta 0:00:01\r\u001b[K     |███████████▊                    | 112kB 5.7MB/s eta 0:00:01\r\u001b[K     |████████████▊                   | 122kB 5.7MB/s eta 0:00:01\r\u001b[K     |█████████████▉                  | 133kB 5.7MB/s eta 0:00:01\r\u001b[K     |██████████████▉                 | 143kB 5.7MB/s eta 0:00:01\r\u001b[K     |████████████████                | 153kB 5.7MB/s eta 0:00:01\r\u001b[K     |█████████████████               | 163kB 5.7MB/s eta 0:00:01\r\u001b[K     |██████████████████              | 174kB 5.7MB/s eta 0:00:01\r\u001b[K     |███████████████████             | 184kB 5.7MB/s eta 0:00:01\r\u001b[K     |████████████████████▏           | 194kB 5.7MB/s eta 0:00:01\r\u001b[K     |█████████████████████▎          | 204kB 5.7MB/s eta 0:00:01\r\u001b[K     |██████████████████████▎         | 215kB 5.7MB/s eta 0:00:01\r\u001b[K     |███████████████████████▍        | 225kB 5.7MB/s eta 0:00:01\r\u001b[K     |████████████████████████▍       | 235kB 5.7MB/s eta 0:00:01\r\u001b[K     |█████████████████████████▌      | 245kB 5.7MB/s eta 0:00:01\r\u001b[K     |██████████████████████████▌     | 256kB 5.7MB/s eta 0:00:01\r\u001b[K     |███████████████████████████▋    | 266kB 5.7MB/s eta 0:00:01\r\u001b[K     |████████████████████████████▋   | 276kB 5.7MB/s eta 0:00:01\r\u001b[K     |█████████████████████████████▊  | 286kB 5.7MB/s eta 0:00:01\r\u001b[K     |██████████████████████████████▊ | 296kB 5.7MB/s eta 0:00:01\r\u001b[K     |███████████████████████████████▉| 307kB 5.7MB/s eta 0:00:01\r\u001b[K     |████████████████████████████████| 317kB 5.7MB/s \n",
            "\u001b[?25hRequirement already satisfied: numpy in /usr/local/lib/python3.6/dist-packages (from tensorboardX) (1.18.5)\n",
            "Requirement already satisfied: protobuf>=3.8.0 in /usr/local/lib/python3.6/dist-packages (from tensorboardX) (3.12.4)\n",
            "Requirement already satisfied: six in /usr/local/lib/python3.6/dist-packages (from tensorboardX) (1.15.0)\n",
            "Requirement already satisfied: setuptools in /usr/local/lib/python3.6/dist-packages (from protobuf>=3.8.0->tensorboardX) (50.3.2)\n",
            "Installing collected packages: tensorboardX\n",
            "Successfully installed tensorboardX-2.1\n"
          ],
          "name": "stdout"
        }
      ]
    },
    {
      "cell_type": "code",
      "metadata": {
        "id": "3GMB2UiZQ2it"
      },
      "source": [
        "import math\n",
        "from tensorboardX import SummaryWriter\n",
        "\n",
        "\n",
        "if __name__ == \"__main__\":\n",
        "    writer = SummaryWriter()\n",
        "\n",
        "    funcs = {\"sin\": math.sin, \"cos\": math.cos, \"tan\": math.tan}\n",
        "\n",
        "    for angle in range(-360, 360):\n",
        "        angle_rad = angle * math.pi / 180\n",
        "        for name, fun in funcs.items():\n",
        "            val = fun(angle_rad)\n",
        "            writer.add_scalar(name, val, angle)\n",
        "\n",
        "    writer.close()"
      ],
      "execution_count": null,
      "outputs": []
    }
  ]
}